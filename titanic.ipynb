{
 "cells": [
  {
   "cell_type": "code",
   "execution_count": 1,
   "id": "88beefe0-fb08-46e0-ab45-a9b2042918a1",
   "metadata": {},
   "outputs": [],
   "source": [
    "import numpy as np\n",
    "import pandas as pd\n",
    "\n",
    "train = pd.read_csv('train.csv')\n",
    "test = pd.read_csv('test.csv')"
   ]
  },
  {
   "cell_type": "markdown",
   "id": "c344c0e8-2fc5-47f6-8959-7e5ad7fad912",
   "metadata": {},
   "source": [
    "Step 1: Explorative data analysis"
   ]
  },
  {
   "cell_type": "code",
   "execution_count": 2,
   "id": "eeaff396-b359-42df-b170-58b8c1f182a8",
   "metadata": {},
   "outputs": [
    {
     "data": {
      "text/html": [
       "<div>\n",
       "<style scoped>\n",
       "    .dataframe tbody tr th:only-of-type {\n",
       "        vertical-align: middle;\n",
       "    }\n",
       "\n",
       "    .dataframe tbody tr th {\n",
       "        vertical-align: top;\n",
       "    }\n",
       "\n",
       "    .dataframe thead th {\n",
       "        text-align: right;\n",
       "    }\n",
       "</style>\n",
       "<table border=\"1\" class=\"dataframe\">\n",
       "  <thead>\n",
       "    <tr style=\"text-align: right;\">\n",
       "      <th></th>\n",
       "      <th>PassengerId</th>\n",
       "      <th>Survived</th>\n",
       "      <th>Pclass</th>\n",
       "      <th>Name</th>\n",
       "      <th>Sex</th>\n",
       "      <th>Age</th>\n",
       "      <th>SibSp</th>\n",
       "      <th>Parch</th>\n",
       "      <th>Ticket</th>\n",
       "      <th>Fare</th>\n",
       "      <th>Cabin</th>\n",
       "      <th>Embarked</th>\n",
       "    </tr>\n",
       "  </thead>\n",
       "  <tbody>\n",
       "    <tr>\n",
       "      <th>0</th>\n",
       "      <td>1</td>\n",
       "      <td>0</td>\n",
       "      <td>3</td>\n",
       "      <td>Braund, Mr. Owen Harris</td>\n",
       "      <td>male</td>\n",
       "      <td>22.0</td>\n",
       "      <td>1</td>\n",
       "      <td>0</td>\n",
       "      <td>A/5 21171</td>\n",
       "      <td>7.2500</td>\n",
       "      <td>NaN</td>\n",
       "      <td>S</td>\n",
       "    </tr>\n",
       "    <tr>\n",
       "      <th>1</th>\n",
       "      <td>2</td>\n",
       "      <td>1</td>\n",
       "      <td>1</td>\n",
       "      <td>Cumings, Mrs. John Bradley (Florence Briggs Th...</td>\n",
       "      <td>female</td>\n",
       "      <td>38.0</td>\n",
       "      <td>1</td>\n",
       "      <td>0</td>\n",
       "      <td>PC 17599</td>\n",
       "      <td>71.2833</td>\n",
       "      <td>C85</td>\n",
       "      <td>C</td>\n",
       "    </tr>\n",
       "    <tr>\n",
       "      <th>2</th>\n",
       "      <td>3</td>\n",
       "      <td>1</td>\n",
       "      <td>3</td>\n",
       "      <td>Heikkinen, Miss. Laina</td>\n",
       "      <td>female</td>\n",
       "      <td>26.0</td>\n",
       "      <td>0</td>\n",
       "      <td>0</td>\n",
       "      <td>STON/O2. 3101282</td>\n",
       "      <td>7.9250</td>\n",
       "      <td>NaN</td>\n",
       "      <td>S</td>\n",
       "    </tr>\n",
       "  </tbody>\n",
       "</table>\n",
       "</div>"
      ],
      "text/plain": [
       "   PassengerId  Survived  Pclass  \\\n",
       "0            1         0       3   \n",
       "1            2         1       1   \n",
       "2            3         1       3   \n",
       "\n",
       "                                                Name     Sex   Age  SibSp  \\\n",
       "0                            Braund, Mr. Owen Harris    male  22.0      1   \n",
       "1  Cumings, Mrs. John Bradley (Florence Briggs Th...  female  38.0      1   \n",
       "2                             Heikkinen, Miss. Laina  female  26.0      0   \n",
       "\n",
       "   Parch            Ticket     Fare Cabin Embarked  \n",
       "0      0         A/5 21171   7.2500   NaN        S  \n",
       "1      0          PC 17599  71.2833   C85        C  \n",
       "2      0  STON/O2. 3101282   7.9250   NaN        S  "
      ]
     },
     "execution_count": 2,
     "metadata": {},
     "output_type": "execute_result"
    }
   ],
   "source": [
    "train.head(3)"
   ]
  },
  {
   "cell_type": "markdown",
   "id": "50978b22-cac3-4f11-ae5c-3b05e3ab631f",
   "metadata": {},
   "source": [
    "Step 2: Data preprocessing"
   ]
  },
  {
   "cell_type": "code",
   "execution_count": 3,
   "id": "a0c51978-d034-49c6-8a4c-e4a85caa697c",
   "metadata": {},
   "outputs": [],
   "source": [
    "train['Age'] = train['Age'].fillna(train['Age'].median())\n",
    "train['Cabin'] = train['Cabin'].fillna('Missing')\n",
    "train['Embarked'] = train['Embarked'].fillna('Missing')\n",
    "test['Age'] = test['Age'].fillna(test['Age'].median())\n",
    "test['Cabin'] = test['Cabin'].fillna('Missing')\n",
    "test['Fare'] = test['Fare'].fillna(test['Fare'].median())"
   ]
  },
  {
   "cell_type": "code",
   "execution_count": 4,
   "id": "2510bf12-a0ac-4aaf-9526-f763dc726bc4",
   "metadata": {},
   "outputs": [],
   "source": [
    "from sklearn.preprocessing import LabelEncoder\n",
    "from xgboost import XGBClassifier\n",
    "\n",
    "target = 'Survived'\n",
    "features = train.columns.drop(['PassengerId', 'Survived', 'Name', 'Ticket', 'Cabin'])\n",
    "\n",
    "cat_cols = ['Sex', 'Embarked']\n",
    "le_dict = {}\n",
    "for col in cat_cols:\n",
    "    le = LabelEncoder()\n",
    "    train[col] = le.fit_transform(train[col])\n",
    "    test[col] = le.transform(test[col])\n",
    "    le_dict[col] = le\n",
    "\n",
    "X_train = train[features]\n",
    "y_train = train[target]\n",
    "X_test = test[features]"
   ]
  },
  {
   "cell_type": "markdown",
   "id": "27937cfa-1cb1-451c-ba09-fce95ad06c41",
   "metadata": {},
   "source": [
    "Step 3: Define and train model"
   ]
  },
  {
   "cell_type": "code",
   "execution_count": 7,
   "id": "1905c99e-5712-4fde-88b4-4f2e8fd9d086",
   "metadata": {},
   "outputs": [
    {
     "name": "stdout",
     "output_type": "stream",
     "text": [
      "Fitting 5 folds for each of 500 candidates, totalling 2500 fits\n",
      "Beste Parameter: {'colsample_bytree': np.float64(0.819700811161039), 'gamma': np.float64(0.10952327764406267), 'learning_rate': np.float64(0.07703944832918018), 'max_depth': 6, 'n_estimators': 216, 'reg_alpha': np.float64(0.603721531730139), 'reg_lambda': np.float64(1.5713365002784387), 'subsample': np.float64(0.8243513752610883)}\n",
      "CV-Score: 0.8428661100998054\n"
     ]
    }
   ],
   "source": [
    "from sklearn.model_selection import RandomizedSearchCV\n",
    "from scipy.stats import uniform, randint\n",
    "\n",
    "param_dist = {\n",
    "    'n_estimators': randint(100, 400),\n",
    "    'max_depth': randint(3, 8),\n",
    "    'learning_rate': uniform(0.01, 0.2),\n",
    "    'subsample': uniform(0.7, 0.3),\n",
    "    'colsample_bytree': uniform(0.7, 0.3),\n",
    "    'gamma': uniform(0, 2),\n",
    "    'reg_alpha': uniform(0, 1),\n",
    "    'reg_lambda': uniform(1, 5)\n",
    "}\n",
    "\n",
    "model = XGBClassifier(eval_metric='logloss')\n",
    "search = RandomizedSearchCV(\n",
    "    model,\n",
    "    param_distributions=param_dist,\n",
    "    n_iter=500,\n",
    "    scoring='accuracy',\n",
    "    cv=5,\n",
    "    verbose=1,\n",
    "    n_jobs=-1,\n",
    "    random_state=42\n",
    ")\n",
    "search.fit(X_train, y_train)\n",
    "\n",
    "best_model = search.best_estimator_\n",
    "print(\"Beste Parameter:\", search.best_params_)\n",
    "print(\"CV-Score:\", search.best_score_)"
   ]
  },
  {
   "cell_type": "markdown",
   "id": "868c321b-c799-45a3-bec4-9f92db61adad",
   "metadata": {},
   "source": [
    "Step 4: Submission"
   ]
  },
  {
   "cell_type": "code",
   "execution_count": 8,
   "id": "1e1372b2-43e6-4b9d-b252-033c51019226",
   "metadata": {},
   "outputs": [],
   "source": [
    "preds = best_model.predict(X_test)\n",
    "submission = pd.DataFrame({\n",
    "    'PassengerId': test['PassengerId'],\n",
    "    'Survived': preds\n",
    "})\n",
    "submission.to_csv('submission.csv', index=False)"
   ]
  },
  {
   "cell_type": "code",
   "execution_count": null,
   "id": "ff3ce832-9aac-4bae-a8c0-0a477f3a00de",
   "metadata": {},
   "outputs": [],
   "source": []
  }
 ],
 "metadata": {
  "kernelspec": {
   "display_name": "Python [conda env:kaggle]",
   "language": "python",
   "name": "conda-env-kaggle-py"
  },
  "language_info": {
   "codemirror_mode": {
    "name": "ipython",
    "version": 3
   },
   "file_extension": ".py",
   "mimetype": "text/x-python",
   "name": "python",
   "nbconvert_exporter": "python",
   "pygments_lexer": "ipython3",
   "version": "3.9.23"
  }
 },
 "nbformat": 4,
 "nbformat_minor": 5
}
